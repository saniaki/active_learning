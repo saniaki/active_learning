{
 "cells": [
  {
   "cell_type": "markdown",
   "metadata": {},
   "source": [
    "# Active Learning for Sensor Selection in Composites Processing"
   ]
  },
  {
   "cell_type": "markdown",
   "metadata": {},
   "source": [
    "References: \n",
    "- For stochastic modelling of the processing, the proposed bootstrap filtering model is used:\\\n",
    "    https://github.com/saniaki/stochastic_modelling\n",
    "\n",
    "- The solver for generating data is a FEM model on thermochemical heat processing:\\\n",
    "    https://github.com/saniaki/FEM-heat\n",
    "\n",
    "- For optimization, Scikit-Optimize, a sequential model-based optimization library in Python is used:\\\n",
    "    https://scikit-optimize.github.io/stable/ \\\n",
    "    https://scikit-optimize.github.io/stable/auto_examples/bayesian-optimization.html \\\n",
    "    https://scikit-optimize.github.io/stable/modules/generated/skopt.gp_minimize.html#skopt-gp-minimize"
   ]
  },
  {
   "cell_type": "code",
   "execution_count": 32,
   "metadata": {},
   "outputs": [],
   "source": [
    "# import\n",
    "import numpy as np\n",
    "import matplotlib.pyplot as plt\n",
    "import matplotlib\n",
    "import matplotlib.patches as patches\n",
    "import scipy as sp\n",
    "from scipy.stats import norm\n",
    "from scipy import linalg\n",
    "from ipywidgets import interactive\n",
    "from IPython.display import clear_output\n",
    "import timeit\n",
    "%matplotlib inline"
   ]
  },
  {
   "cell_type": "code",
   "execution_count": 33,
   "metadata": {},
   "outputs": [],
   "source": [
    "#set figure defaults for IPython notebook \n",
    "matplotlib.rcParams.update({'font.size': 18, 'lines.linewidth':4})"
   ]
  },
  {
   "cell_type": "code",
   "execution_count": 34,
   "metadata": {},
   "outputs": [],
   "source": [
    "# Importing Bootstrap filter and FE models to this notebook:\n",
    "# Bootstrap filter model available here is used to generate data for optimization:\n",
    "# https://github.com/saniaki/stochastic_modelling\n",
    "from ipynb.fs.full.FETemp import T_air, C, alpha_dot_func, alpha_func, Mesh, Mesh3, KCF, KCF3, Assemble, Assemble3\n",
    "from ipynb.fs.full.FETemp import plot_Temp, plot_alpha, plot_temp_error_shade, plot_alpha_error_shade, plot_node_temp_std\n",
    "from ipynb.fs.full.FETemp import FE\n",
    "from ipynb.fs.full.Probabilistic_Modelling import plot_distribution\n",
    "from ipynb.fs.full.Probabilistic_Modelling import Temp_bootstrap"
   ]
  },
  {
   "cell_type": "code",
   "execution_count": 35,
   "metadata": {},
   "outputs": [],
   "source": [
    "from skopt import gp_minimize\n",
    "from skopt.acquisition import gaussian_ei\n",
    "from skopt.plots import plot_convergence\n",
    "#np.random.seed(237)"
   ]
  },
  {
   "cell_type": "markdown",
   "metadata": {},
   "source": [
    "#### A function for visualization of resutls"
   ]
  },
  {
   "cell_type": "markdown",
   "metadata": {},
   "source": [
    "## Cost function\n",
    "\n",
    "This model uses a cost function, a measure of our uncertanity, and optimizes that w.r.t to location of the sensor. We can target different goals in our optimization. Based on that, different costs (target to be minimized in our optimization) can be considered:\n",
    "- summation of variance/std of all nodal temperatures at/up to given time tn (cost_sum_var/cost_sum_var_all)\n",
    "- average of variance/std of all nodal temperatures at/up to given time tn (cost_ave_var/cost_ave_var_all)\n",
    "- variance/std of temperatue at center at/up to given time tn\n",
    "- variance/std of maximum nodal temperatures at/up to given time tn (cost_max_var_Tmax/cost_max_var_Tmax_all)\n",
    "- variance/std of minimum nodal temperatures at/up to given time tn (cost_max_var_Tmin/cost_max_var_Tmin_all)\n",
    "- ...\n",
    "\n",
    "For example, we can find the best location to put our temperature sensor in order to have the least uncertainty for highest temperature that could occur during our composite processing (4th case in above list). Or, to have the least uncertainty for temperature at the center of composites part (it is obvious that the answer would be putting the censor at the center. But, this case could help when we have some constraints on the location of the sensor).\n",
    "\n"
   ]
  },
  {
   "cell_type": "code",
   "execution_count": 6,
   "metadata": {},
   "outputs": [],
   "source": [
    "# cost at time tn\n",
    "def Cost(T_var,T_mean, tn, typ):\n",
    "    K = T_var.shape[0] # number of nodes\n",
    "    cent_K = int(K/2) # centeric node\n",
    "    \n",
    "    # cost based on final temperature\n",
    "    cost_sum_var = np.sum(T_var[:,tn-1], axis = 0)  # sum of std of all nodal temperature at time tn\n",
    "    cost_ave_var = cost_sum_var/T_mean.shape[0] # avrage of std of all nodal temperature over at time tn\n",
    "    Tmax_loc = np.argmax(T_mean[:,tn-1]) \n",
    "    cost_max_var_Tmax = T_var[Tmax_loc,tn-1] # std of maximum temperature at time tn\n",
    "    Tmin_loc = np.argmin(T_mean[:,tn-1])\n",
    "    cost_max_var_Tmin = T_var[Tmin_loc,tn-1] # std of minimum temperature at time tn\n",
    "    cost_max_var_Tcent = T_var[cent_K+1,tn-1] # std of temperature at center of rod time tn\n",
    "    \n",
    "    # cost based on all temperatures\n",
    "    cost_sum_var_all = np.sum(T_var[:,:tn-1])  # sum of std of all nodal temperature over all times (up to tn)\n",
    "    cost_ave_var_all = np.average(T_var[:,:tn-1]) # avrage of std of all nodal temperature over all times (up to tn)\n",
    "    Tmax_loc_all = np.unravel_index(np.argmax(T_mean[:,:tn-1]), np.array(T_mean[:,:tn-1]).shape) \n",
    "    cost_max_var_Tmax_all = T_var[Tmax_loc_all] # std of maximum temperature over all nodes and times\n",
    "    Tmin_loc_all = np.unravel_index(np.argmin(T_mean[:,:tn-1]), np.array(T_mean[:,:tn-1]).shape) \n",
    "    cost_max_var_Tmin_all = T_var[Tmin_loc_all] # std of minimum temperature over all nodes and times\n",
    "    cost_max_var_Tcent_all = np.sum(T_var[cent_K+1,:tn-1]) # std of temperature at center of rod over all times\n",
    "    \n",
    "    \n",
    "    List_str = ['cost_sum_var', 'cost_ave_var', 'cost_max_var_Tmax', 'cost_max_var_Tmin', 'cost_max_var_Tcent',\n",
    "                'cost_sum_var_all', 'cost_ave_var_all', 'cost_max_var_Tmax_all', 'cost_max_var_Tmin_all', 'cost_max_var_Tcent_all']\n",
    "    \n",
    "    List_num = [cost_sum_var, cost_ave_var, cost_max_var_Tmax, cost_max_var_Tmin, cost_max_var_Tcent,\n",
    "                cost_sum_var_all, cost_ave_var_all, cost_max_var_Tmax_all, cost_max_var_Tmin_all, cost_max_var_Tcent_all]\n",
    "    \n",
    "    typ_loc = List_str.index(typ)\n",
    "    \n",
    "    return List_num[typ_loc]\n",
    "    "
   ]
  },
  {
   "cell_type": "code",
   "execution_count": 7,
   "metadata": {},
   "outputs": [],
   "source": [
    "# The function targeted in optimization\n",
    "def f(x):\n",
    "    num_t = int((t_end-t_start)/delt)\n",
    "    \n",
    "    T_mean, T_var, Coords, \\\n",
    "    alpha_mean, alpha_var, alpha_dot_mean, \\\n",
    "    alpha_dot_var = Temp_bootstrap(sensor_loc_typ,x,obs_sigma,T_sigma,alpha_sigma,alpha_dot_sigma,\n",
    "                                        muT_sigma,mualpha_sigma,mualpha_dot_sigma,\n",
    "                                        N,t_start,t_end,delt,Length_c,Length_t,num_el_c,num_el_t,\n",
    "                                        Coords_start,air_temp_type,T_start,T_hold,T_const,T_rate,th1,th2,\n",
    "                                        T_air_sigma,\n",
    "                                        material_dict,Analysis,cri,\n",
    "                                        Element_type,heat_gen,T_true,alpha_true,alpha_dot_true)\n",
    "    \n",
    "    cst = Cost(T_var,T_mean, num_t, typ)/1e3\n",
    "    print('Tried point {}. Cost value = {}'.format(x, cst))\n",
    "    print('Loading... ')\n",
    "    return  cst "
   ]
  },
  {
   "cell_type": "markdown",
   "metadata": {},
   "source": [
    "## Example: Two available sensor"
   ]
  },
  {
   "cell_type": "markdown",
   "metadata": {},
   "source": [
    "### Inputs\n",
    "Material properties"
   ]
  },
  {
   "cell_type": "code",
   "execution_count": 8,
   "metadata": {},
   "outputs": [],
   "source": [
    "# material properties, mean values\n",
    "rho_c_mean = 1463 # composites density (kg/m3) \n",
    "# --> 1463 for AS4/3501-6 composites (https://pdfs.semanticscholar.org/f069/9fb46a1958f250cc748a673e5a6b8e1910c6.pdf)\n",
    "#--> 1790 for AS4 carbon (https://www.900gpa.com/en/product/fiber/CF_001EF245BC?u=metric)\n",
    "k_c_mean = 0.65 # composites thermal conductivity (W/m K) \n",
    "# --> 0.65 for AS4/3501-6 composites (https://pdfs.semanticscholar.org/f069/9fb46a1958f250cc748a673e5a6b8e1910c6.pdf)\n",
    "#--> 6.83 for AS4 carbon (https://www.900gpa.com/en/product/fiber/CF_001EF245BC?u=metric)\n",
    "Cp_c_mean = 1200 # composite specific heat capacity (J/kg K) \n",
    "# --> 1200 for AS4/3501-6 composites (https://pdfs.semanticscholar.org/f069/9fb46a1958f250cc748a673e5a6b8e1910c6.pdf)\n",
    "# --> 1300 for AS4 Carbon (https://www.researchgate.net/figure/Specific-heat-capacity-of-AS4-carbon-fiber-PES-matrix-and-CF-PES-tape-fiber-volume_fig6_320801788)\n",
    "rho_r_mean = 1256 # resin density  (kg/m3), \n",
    "# -->1256 for 3501-6 (https://www.researchgate.net/figure/3-Properties-of-Hexcel-3501-6-Epoxy-Resin-17_tbl3_267585693)\n",
    "H_r_mean = 400e3 # resin heat of reasction per unit mass (J / kg)\n",
    "# --> 400*1000  for 3501-6 (https://books.google.ca/books?id=p__RBQAAQBAJ&pg=PA478&lpg=PA478&dq=resin+3501-6+heat+reaction+per+unit+mass&source=bl&ots=yzGE-Cu-Fo&sig=ACfU3U07FEurjhNeAVzwOKofNp-Y_zYDdw&hl=en&sa=X&ved=2ahUKEwjut6Lx2OboAhUMrp4KHf90BkAQ6AEwAHoECAsQLA#v=onepage&q=resin%203501-6%20heat%20reaction%20per%20unit%20mass&f=false)\n",
    "nu_r_mean = 0.33 # resin volume fraction in composite material \n",
    "# --> 0.33\n",
    "h_c_mean = 120; # convection heat trasnfer coefficient (W/ m2 K)\n",
    "# --> 120 in autoclave (https://www.semanticscholar.org/paper/HEAT-TRANSFER-COEFFICIENT-DISTRIBUTION-INSIDE-AN-Slesinger-Shimizu/b61dfa6b4811edb51b003e43cc61088f0d13e348)\n",
    "\n",
    "# tool properties\n",
    "rho_t_mean = 8150; # tool density (kg/m3) \n",
    "# -->  ~ 8150 for Invar (https://www.azom.com/properties.aspx?ArticleID=515)\n",
    "k_t_mean = 13; # tool thermal conductivity (W/m K) \n",
    "# --> ~13 for Invar (https://www.azom.com/properties.aspx?ArticleID=515)\n",
    "Cp_t_mean = 510; # tool specific heat capacity (J/kg K) \n",
    "# --> ~ 510 for Invar (https://www.azom.com/properties.aspx?ArticleID=515)\n",
    "h_t_mean = 100;\n",
    "\n",
    "# cure kenetic\n",
    "# Table 5.2 of S. Amini Niaki thesis for 3501-6\n",
    "A1_mean = 3.5017e7\n",
    "A2_mean = -3.3567e7\n",
    "A3_mean = 3.2667e3\n",
    "dE1_mean = 80700\n",
    "dE2_mean = 77800\n",
    "dE3_mean = 56600\n",
    "# Table 5.2 of S.A. Niaki thesis for 3501-6  \n",
    "BB_mean = 0.47"
   ]
  },
  {
   "cell_type": "markdown",
   "metadata": {},
   "source": [
    "Geometry"
   ]
  },
  {
   "cell_type": "code",
   "execution_count": 9,
   "metadata": {},
   "outputs": [],
   "source": [
    "# geometry\n",
    "# composite\n",
    "Length_c = 0.030 # rod length (m)\n",
    "num_el_c = 10 # number of elements\n",
    "# tool\n",
    "Length_t = 0.015 # tool length (m)\n",
    "num_el_t = 5 # number of elements\n",
    "Coords_start = 0 # first node x coordinate"
   ]
  },
  {
   "cell_type": "markdown",
   "metadata": {},
   "source": [
    "Air and initial temperature"
   ]
  },
  {
   "cell_type": "code",
   "execution_count": 10,
   "metadata": {},
   "outputs": [],
   "source": [
    "# air temperautre\n",
    "air_temp_type = 'OneHold' # 'Constant', 'ConstantRate', 'OneHold'\n",
    "T_start = 20+273 # start air temperature (K)\n",
    "T_const = 180+273 # air consat temperate (for 'Constat' type) (K)\n",
    "T_rate = 0.5 # air temperature increase rate (for 'Constant_rate' type)\n",
    "T_hold = 170+273 # air hold temperate (for 'OneHold' type) (K)\n",
    "th1 = 70*60 # time for start of hold (for 'OneHold' type) (seconds)\n",
    "th2 = 170*60 # time for end of hold (for 'OneHold' type) (seconds)\n",
    "\n",
    "num_el = num_el_c + num_el_t\n",
    "T_ini = np.ones((num_el+1,1))* T_air(0,air_temp_type,T_start,\n",
    "                                     T_hold,T_const,T_rate,th1,th2,T_air_sigma = 0) # initital temperature of material\n",
    "\n",
    "alpha_ini = np.zeros((num_el,1))\n",
    "alpha_dot_ini = np.zeros((num_el,1))\n",
    "\n",
    "\n",
    "num_el = num_el_c + num_el_t\n",
    "T_ini = np.ones((num_el+1,1))* T_air(0,air_temp_type,T_start,\n",
    "                                     T_hold,T_const,T_rate,th1,th2,T_air_sigma = 0) # initital temperature of material\n",
    "\n",
    "\n",
    "alpha_ini = np.zeros((num_el,1))\n",
    "alpha_dot_ini = np.zeros((num_el,1))"
   ]
  },
  {
   "cell_type": "markdown",
   "metadata": {},
   "source": [
    "Time "
   ]
  },
  {
   "cell_type": "code",
   "execution_count": 11,
   "metadata": {},
   "outputs": [],
   "source": [
    "t_start = 0 # start time (seconds)\n",
    "t_end = 40*60 # end time (seconds)\n",
    "delt = 1 # time step (seconds)\n",
    "n = int(int(t_end-t_start)/delt + 1) # number of states"
   ]
  },
  {
   "cell_type": "markdown",
   "metadata": {},
   "source": [
    "Analysis type"
   ]
  },
  {
   "cell_type": "code",
   "execution_count": 12,
   "metadata": {},
   "outputs": [],
   "source": [
    "# analysis type\n",
    "Analysis = 'Forward';  # 'Backward' or 'Forward', Backward is Implicit Euler w/ Newton Raphson, Forward is Expicit Euler\n",
    "cri = 0.01 # convergence criteria value for Implicit analysis\n",
    "Element_type = 'Linear' # 'Linear' or 'Nonlinear'\n",
    "\n",
    "# heat generation switch\n",
    "heat_gen = 'Yes' # 'Yes' or 'No'"
   ]
  },
  {
   "cell_type": "markdown",
   "metadata": {},
   "source": [
    "Optimization details"
   ]
  },
  {
   "cell_type": "code",
   "execution_count": 13,
   "metadata": {},
   "outputs": [],
   "source": [
    "typ = 'cost_sum_var_all'\n",
    "number_of_sensors = 2\n",
    "\n",
    "sensor_loc_typ = 'node'\n",
    "bounds = [(1,num_el+1)] * number_of_sensors # whole area, a list of tuples\n",
    "bounds = [(6,16), (6,16)]\n",
    "#sensor_loc_typ = 'loc'\n",
    "#bounds = [(0,Length_t + Length_c)] * number_of_sensors # whole area, a list of tuples\n",
    "\n",
    "\n",
    "acq_func = \"EI\"\n",
    "n_calls = 15\n",
    "#noise = \"guassian\"\n",
    "n_random_starts= 4"
   ]
  },
  {
   "cell_type": "markdown",
   "metadata": {},
   "source": [
    "Uncertainty values in input parameters "
   ]
  },
  {
   "cell_type": "code",
   "execution_count": 15,
   "metadata": {},
   "outputs": [],
   "source": [
    "# probabilistic modelling input parameters\n",
    "N = 100 # number of samples\n",
    "\n",
    "# uncertainty in measurements of temperature\n",
    "obs_sigma = 1\n",
    "# deterministc solutions uncertainties\n",
    "T_sigma = 0\n",
    "muT_sigma = 0\n",
    "alpha_sigma = 0\n",
    "mualpha_sigma = 0\n",
    "alpha_dot_sigma = 0\n",
    "mualpha_dot_sigma = 0\n",
    "# uncertainties in material properties\n",
    "rho_c_sigma = 3*2\n",
    "k_c_sigma = 0.05*2\n",
    "Cp_c_sigma = 10*2\n",
    "rho_r_sigma = 6*2\n",
    "H_r_sigma = 1000*2\n",
    "nu_r_sigma = 0.01*2\n",
    "h_c_sigma = 2*2\n",
    "rho_t_sigma = 3*2\n",
    "k_t_sigma = 0.05*2\n",
    "Cp_t_sigma = 10*2\n",
    "h_t_sigma = 2*2\n",
    "A1_sigma = 0.5e7*2\n",
    "A2_sigma = 0.3e7*2\n",
    "A3_sigma = 0.10e3*2\n",
    "dE1_sigma = 50*2\n",
    "dE2_sigma = 50*2\n",
    "dE3_sigma = 50*2\n",
    "BB_sigma = 0.01*2\n",
    "# uncertainty in air temperature\n",
    "T_air_sigma = 0\n",
    "\n",
    "a_c_mean =  k_c_mean/(rho_c_mean*Cp_c_mean)\n",
    "b_c_mean =  rho_r_mean*H_r_mean*nu_r_mean/(rho_c_mean*Cp_c_mean)\n",
    "Ch_c_mean = h_c_mean/k_c_mean*a_c_mean; \n",
    "\n",
    "a_t_mean =  k_t_mean/(rho_t_mean*Cp_t_mean);\n",
    "b_t_mean =  0;\n",
    "Ch_t_mean = h_t_mean/k_t_mean*a_t_mean;\n",
    "\n",
    "material_dict = {'k_c_mean':k_c_mean,'k_c_sigma':k_c_sigma,\n",
    "                 'rho_c_mean':rho_c_mean,'rho_c_sigma':rho_c_sigma,\n",
    "                 'Cp_c_mean':Cp_c_mean,'Cp_c_sigma':Cp_c_sigma,\n",
    "                 'rho_r_mean':rho_r_mean,'rho_r_sigma':rho_r_sigma,\n",
    "                 'H_r_mean':H_r_mean,'H_r_sigma':H_r_sigma,\n",
    "                 'nu_r_mean':nu_r_mean,'nu_r_sigma':nu_r_sigma,\n",
    "                 'h_c_mean':h_c_mean,'h_c_sigma':h_c_sigma,\n",
    "                 'k_t_mean':k_t_mean,'k_t_sigma':k_t_sigma,\n",
    "                 'rho_t_mean':rho_t_mean,'rho_t_sigma':rho_t_sigma,\n",
    "                 'Cp_t_mean':Cp_t_mean,'Cp_t_sigma':Cp_t_sigma,\n",
    "                 'h_t_mean':h_c_mean,'h_t_sigma':h_c_sigma,\n",
    "                 'A1_mean':A1_mean,'A1_sigma':A1_sigma,\n",
    "                 'A2_mean':A2_mean,'A2_sigma':A2_sigma,\n",
    "                 'A3_mean':A3_mean,'A3_sigma':A3_sigma,\n",
    "                 'dE1_mean':dE1_mean,'dE1_sigma':dE1_sigma,\n",
    "                 'dE2_mean':dE2_mean,'dE2_sigma':dE2_sigma,\n",
    "                 'dE3_mean':dE3_mean,'dE3_sigma':dE3_sigma,\n",
    "                 'BB_mean':BB_mean,'BB_sigma':BB_sigma,}"
   ]
  },
  {
   "cell_type": "markdown",
   "metadata": {},
   "source": [
    "Generating synthetic observation data"
   ]
  },
  {
   "cell_type": "code",
   "execution_count": 16,
   "metadata": {},
   "outputs": [
    {
     "name": "stdout",
     "output_type": "stream",
     "text": [
      "Run time (s):  3.2201082999999997\n"
     ]
    }
   ],
   "source": [
    "# Generating fake observation data\n",
    "# true temperature\n",
    "start = timeit.default_timer()\n",
    "\n",
    "T_true, Coords, alpha_true, alpha_dot_true, = FE(t_start,t_end,delt,Length_c,Length_t,num_el_c,num_el_t,\n",
    "                                                 Coords_start,air_temp_type,\n",
    "                                                 T_start,T_hold,T_const,T_rate,th1,th2,0,\n",
    "                                                 a_c_mean,b_c_mean,Ch_c_mean,a_t_mean,b_t_mean,Ch_t_mean,\n",
    "                                                 BB_mean,A1_mean,A2_mean,A3_mean,dE1_mean,dE2_mean,dE3_mean,\n",
    "                                                 Analysis,cri,Element_type,heat_gen,T_ini,alpha_ini,alpha_dot_ini)\n",
    "# obervations\n",
    "# fake observations are generated whiting Temp_bootstrap function. In case observation are to be given\n",
    "# by user, this function should be modified accordingly. \n",
    "\n",
    "stop = timeit.default_timer()\n",
    "print('Run time (s): ', stop - start)"
   ]
  },
  {
   "cell_type": "markdown",
   "metadata": {},
   "source": [
    "### Optimization"
   ]
  },
  {
   "cell_type": "code",
   "execution_count": 22,
   "metadata": {},
   "outputs": [
    {
     "name": "stdout",
     "output_type": "stream",
     "text": [
      "progress is : 99.8%\n",
      "Tried point [6, 11]. Cost value = 1.6415204870394513\n",
      "Loading... \n",
      "DONE\n"
     ]
    }
   ],
   "source": [
    "opt = gp_minimize(f,                  # the function to minimize\n",
    "                  bounds,      # the bounds on each dimension of x \n",
    "                  acq_func=acq_func,      # the acquisition function\n",
    "                  n_calls=n_calls,         # the number of evaluations of f\n",
    "                  n_random_starts=n_random_starts,  # the number of random initialization points\n",
    "                  noise=\"gaussian\",       # the noise level (optional)\n",
    "                  random_state=None) \n",
    "print('DONE')"
   ]
  },
  {
   "cell_type": "markdown",
   "metadata": {},
   "source": [
    "### Results"
   ]
  },
  {
   "cell_type": "markdown",
   "metadata": {},
   "source": [
    "All sampled locations during optimization"
   ]
  },
  {
   "cell_type": "code",
   "execution_count": 23,
   "metadata": {},
   "outputs": [
    {
     "name": "stdout",
     "output_type": "stream",
     "text": [
      "All x iterations are:\n",
      " [[9, 10], [11, 10], [16, 7], [15, 12], [16, 11], [16, 16], [6, 11], [6, 11], [6, 11], [6, 6], [6, 11], [6, 12], [6, 11], [6, 11], [6, 11]]\n",
      "\n",
      " All function values are:\n",
      " [ 5.01086589  4.75336232 12.80703936  6.66386643  4.79942124 30.15436987\n",
      "  2.30540994  1.81279713  2.58072202 13.32575062  1.29761158  3.60347365\n",
      "  1.73356032  2.17095166  1.64152049]\n"
     ]
    }
   ],
   "source": [
    "# all iterations (if duplication is allowed)\n",
    "# opt.x_iters\n",
    "#opt.func_vals\n",
    "print(\"All x iterations are:\\n\",opt.x_iters)\n",
    "print(\"\\n All function values are:\\n\", opt.func_vals)"
   ]
  },
  {
   "cell_type": "code",
   "execution_count": 24,
   "metadata": {},
   "outputs": [
    {
     "name": "stdout",
     "output_type": "stream",
     "text": [
      "All x iterations are (sensors are not at same location):\n",
      " [[9, 10], [11, 10], [16, 7], [15, 12], [16, 11], [6, 11], [6, 11], [6, 11], [6, 11], [6, 12], [6, 11], [6, 11], [6, 11]]\n",
      "\n",
      " All function values are:\n",
      " [5.01086589190201, 4.753362322963669, 12.80703935525049, 6.663866425143477, 4.799421235898167, 2.305409935040382, 1.8127971312500968, 2.5807220220355895, 1.297611578483224, 3.603473650131531, 1.7335603227330854, 2.1709516610518813, 1.6415204870394513]\n"
     ]
    }
   ],
   "source": [
    "# removing the duplicates sensor locations (sensors cannot be at same nodes)\n",
    "xiterations = list.copy(opt.x_iters)\n",
    "funcvals = list.copy(list(opt.func_vals))\n",
    "index = 0\n",
    "for i in opt.x_iters:\n",
    "    if len(i) != len(set(i)):\n",
    "        xiterations.pop(index)\n",
    "        funcvals.pop(index)\n",
    "        index -=1\n",
    "    index += 1\n",
    "# all iterations (if duplication is not allowed)\n",
    "print(\"All x iterations are (sensors are not at same location):\\n\",xiterations)\n",
    "print(\"\\n All function values are:\\n\", funcvals)"
   ]
  },
  {
   "cell_type": "markdown",
   "metadata": {},
   "source": [
    "best sensor location(s)"
   ]
  },
  {
   "cell_type": "code",
   "execution_count": 25,
   "metadata": {},
   "outputs": [
    {
     "name": "stdout",
     "output_type": "stream",
     "text": [
      "[6, 11]\n",
      "1.297611578483224\n"
     ]
    }
   ],
   "source": [
    "# optimum results (if duplications is allowed)\n",
    "#\"x1^*=%.4f, x2^*=%.4f, f=%.4f\" % (opt.x[0], opt.x[1], opt.fun)\n",
    "print(opt.x)\n",
    "print(opt.fun)"
   ]
  },
  {
   "cell_type": "code",
   "execution_count": 26,
   "metadata": {
    "scrolled": true
   },
   "outputs": [
    {
     "name": "stdout",
     "output_type": "stream",
     "text": [
      "[6, 11]\n",
      "1.297611578483224\n"
     ]
    }
   ],
   "source": [
    "# optimum results (if duplications is not allowed)\n",
    "#\"x1^*=%.4f,  x2^*=%.4f, f=%.4f\" % (result[0], result[1], funcvals[np.argmin(funcvals)])\n",
    "result = xiterations[np.argmin(funcvals)]\n",
    "print(result)\n",
    "print(funcvals[np.argmin(funcvals)])"
   ]
  },
  {
   "cell_type": "markdown",
   "metadata": {},
   "source": [
    "Convergence plot"
   ]
  },
  {
   "cell_type": "code",
   "execution_count": 36,
   "metadata": {},
   "outputs": [
    {
     "data": {
      "text/plain": [
       "<matplotlib.axes._subplots.AxesSubplot at 0x2e2fc43b048>"
      ]
     },
     "execution_count": 36,
     "metadata": {},
     "output_type": "execute_result"
    },
    {
     "data": {
      "image/png": "[encoded data removed]",
      "text/plain": [
       "<Figure size 432x288 with 1 Axes>"
      ]
     },
     "metadata": {
      "needs_background": "light"
     },
     "output_type": "display_data"
    }
   ],
   "source": [
    "plot_convergence(opt)"
   ]
  },
  {
   "cell_type": "markdown",
   "metadata": {},
   "source": [
    "Values of target function for all iterations"
   ]
  },
  {
   "cell_type": "code",
   "execution_count": 37,
   "metadata": {},
   "outputs": [
    {
     "data": {
      "image/png": "[encoded data removed]",
      "text/plain": [
       "<Figure size 432x288 with 1 Axes>"
      ]
     },
     "metadata": {
      "needs_background": "light"
     },
     "output_type": "display_data"
    }
   ],
   "source": [
    "plt.scatter([*range(1,n_calls+1)], list(opt.func_vals), color = 'blue')\n",
    "plt.plot([*range(1,n_calls+1)],opt.func_vals, linewidth=1, color = 'blue')\n",
    "plt.title('f changes')\n",
    "plt.xlabel('Call number n')\n",
    "plt.ylabel('f(x) value')\n",
    "plt.grid()\n",
    "plt.show()"
   ]
  },
  {
   "cell_type": "markdown",
   "metadata": {},
   "source": [
    "Running probilistic model with optimum sensor locations"
   ]
  },
  {
   "cell_type": "code",
   "execution_count": 38,
   "metadata": {},
   "outputs": [
    {
     "name": "stdout",
     "output_type": "stream",
     "text": [
      "progress is : 99.8%\n"
     ]
    }
   ],
   "source": [
    "sensor_loc_n = result\n",
    "sensor_loc = [(i-1) * (Length_t+Length_t) / (num_el_t+num_el_c) for i in sensor_loc_n] \n",
    "\n",
    "T_mean_test, T_var_test, Coords_test, \\\n",
    "alpha_mean_test, alpha_var_test, alpha_dot_mean_test, \\\n",
    "alpha_dot_var_test = Temp_bootstrap(sensor_loc_typ,sensor_loc_n,obs_sigma,T_sigma,alpha_sigma,alpha_dot_sigma,\n",
    "                                    muT_sigma,mualpha_sigma,mualpha_dot_sigma,\n",
    "                                    N,t_start,t_end,delt,Length_c,Length_t,num_el_c,num_el_t,\n",
    "                                    Coords_start,air_temp_type,T_start,T_hold,T_const,T_rate,th1,th2,T_air_sigma,\n",
    "                                    material_dict,Analysis,cri,\n",
    "                                    Element_type,heat_gen,T_true,alpha_true,alpha_dot_true)"
   ]
  },
  {
   "cell_type": "markdown",
   "metadata": {},
   "source": [
    "Temperature and uncertainity predictions for best location of sensors"
   ]
  },
  {
   "cell_type": "code",
   "execution_count": 41,
   "metadata": {},
   "outputs": [
    {
     "data": {
      "application/vnd.jupyter.widget-view+json": {
       "model_id": "c26ce9f3bc3a4ca6acd2f495a7a65e4c",
       "version_major": 2,
       "version_minor": 0
      },
      "text/plain": [
       "interactive(children=(FloatSlider(value=0.0, description='t', max=2400.0, step=120.0), Output()), _dom_classes…"
      ]
     },
     "metadata": {},
     "output_type": "display_data"
    }
   ],
   "source": [
    "interactive(lambda t=0: plot_temp_error_shade(t,t_start,t_end,delt,Coords_test,T_mean_test,T_var_test*50,air_temp_type,\n",
    "                                              T_start,T_hold,T_const,T_rate,th1,th2,T_air_sigma,T_ini,\n",
    "                                              sensor_loc_typ,sensor_loc_n,Length_c,Length_t,num_el_c,num_el_t),\n",
    "            t=(t_start,t_end,(t_end-t_start)/20))"
   ]
  },
  {
   "cell_type": "code",
   "execution_count": null,
   "metadata": {},
   "outputs": [],
   "source": []
  },
  {
   "cell_type": "code",
   "execution_count": null,
   "metadata": {},
   "outputs": [],
   "source": []
  },
  {
   "cell_type": "code",
   "execution_count": null,
   "metadata": {},
   "outputs": [],
   "source": []
  },
  {
   "cell_type": "code",
   "execution_count": null,
   "metadata": {},
   "outputs": [],
   "source": []
  }
 ],
 "metadata": {
  "kernelspec": {
   "display_name": "Python 3",
   "language": "python",
   "name": "python3"
  },
  "language_info": {
   "codemirror_mode": {
    "name": "ipython",
    "version": 3
   },
   "file_extension": ".py",
   "mimetype": "text/x-python",
   "name": "python",
   "nbconvert_exporter": "python",
   "pygments_lexer": "ipython3",
   "version": "3.7.4"
  },
  "toc": {
   "base_numbering": 1,
   "nav_menu": {
    "height": "336px",
    "width": "422px"
   },
   "number_sections": true,
   "sideBar": true,
   "skip_h1_title": false,
   "title_cell": "Table of Contents",
   "title_sidebar": "Contents",
   "toc_cell": false,
   "toc_position": {},
   "toc_section_display": true,
   "toc_window_display": false
  }
 },
 "nbformat": 4,
 "nbformat_minor": 2
}
